{
 "cells": [
  {
   "cell_type": "markdown",
   "metadata": {
    "colab_type": "text",
    "id": "Xp6xsczvXMBe"
   },
   "source": [
    "#<b> Importing Dataset"
   ]
  },
  {
   "cell_type": "code",
   "execution_count": null,
   "metadata": {
    "colab": {},
    "colab_type": "code",
    "id": "tY8D-4OcTjpW"
   },
   "outputs": [],
   "source": [
    "!wget https://www.dropbox.com/s/qtbih1i6x2hrejr/entity-annotated-corpus.zip"
   ]
  },
  {
   "cell_type": "markdown",
   "metadata": {
    "colab_type": "text",
    "id": "MvPSQfUWXRqA"
   },
   "source": [
    "#<b> Installing and Importing Libraries"
   ]
  },
  {
   "cell_type": "code",
   "execution_count": null,
   "metadata": {
    "colab": {
     "base_uri": "https://localhost:8080/",
     "height": 272
    },
    "colab_type": "code",
    "id": "huNcA692lv6M",
    "outputId": "01e5473b-1a69-4434-f65b-171087eea31c"
   },
   "outputs": [],
   "source": [
    "! pip install eli5"
   ]
  },
  {
   "cell_type": "code",
   "execution_count": null,
   "metadata": {
    "colab": {
     "base_uri": "https://localhost:8080/",
     "height": 207
    },
    "colab_type": "code",
    "id": "Q32028pwlv-4",
    "outputId": "2935eb7b-72ec-498f-9d55-2597821d6c51"
   },
   "outputs": [],
   "source": [
    "! pip install sklearn_crfsuite"
   ]
  },
  {
   "cell_type": "code",
   "execution_count": null,
   "metadata": {
    "colab": {
     "base_uri": "https://localhost:8080/",
     "height": 68
    },
    "colab_type": "code",
    "id": "-RdiwZNClX2k",
    "outputId": "cb7f0509-8410-4f25-cef9-5ea265a088a5"
   },
   "outputs": [],
   "source": [
    "!unzip entity-annotated-corpus.zip"
   ]
  },
  {
   "cell_type": "code",
   "execution_count": null,
   "metadata": {
    "colab": {
     "base_uri": "https://localhost:8080/",
     "height": 122
    },
    "colab_type": "code",
    "id": "C93pFuZ7lmA6",
    "outputId": "7c620b05-f154-4c7a-b66f-7be4df17b3d1"
   },
   "outputs": [],
   "source": [
    "import pandas as pds\n",
    "import eli5 as el\n",
    "from sklearn_crfsuite import CRF as crf\n",
    "from sklearn.model_selection import cross_val_predict as cvp\n",
    "from sklearn_crfsuite.metrics import flat_classification_report as fcr\n"
   ]
  },
  {
   "cell_type": "markdown",
   "metadata": {
    "colab_type": "text",
    "id": "9dLVw4QQX0iv"
   },
   "source": [
    "Let's consider only 10000 rows from this dataset as this is a huge dataset and for computational considerations"
   ]
  },
  {
   "cell_type": "code",
   "execution_count": null,
   "metadata": {
    "colab": {},
    "colab_type": "code",
    "id": "CpEvO7pZ5xDq"
   },
   "outputs": [],
   "source": [
    "\n",
    "text_df = pds.read_csv(\"ner_dataset.csv\", encoding=\"latin1\")\n",
    "text_df=text_df.head(10000)"
   ]
  },
  {
   "cell_type": "code",
   "execution_count": null,
   "metadata": {
    "colab": {
     "base_uri": "https://localhost:8080/",
     "height": 204
    },
    "colab_type": "code",
    "id": "cwUCKs6JYZsj",
    "outputId": "724aca82-b31f-4de6-af5a-c5a1876d6e4b"
   },
   "outputs": [],
   "source": [
    "text_df.head()"
   ]
  },
  {
   "cell_type": "markdown",
   "metadata": {
    "colab_type": "text",
    "id": "KN6rGF5xYcr7"
   },
   "source": [
    "#<b> Data pre-processing step\n",
    "Fill the data with NA wherever applicable \n"
   ]
  },
  {
   "cell_type": "code",
   "execution_count": null,
   "metadata": {
    "colab": {},
    "colab_type": "code",
    "id": "_LArcXly5xD4"
   },
   "outputs": [],
   "source": [
    "text_df = text_df.fillna(method=\"ffill\")"
   ]
  },
  {
   "cell_type": "code",
   "execution_count": null,
   "metadata": {
    "colab": {
     "base_uri": "https://localhost:8080/",
     "height": 204
    },
    "colab_type": "code",
    "id": "HcCmzdqpYnZQ",
    "outputId": "62b5eb1e-930c-4048-c0a5-2b48571246ea"
   },
   "outputs": [],
   "source": [
    "text_df.head()\n"
   ]
  },
  {
   "cell_type": "markdown",
   "metadata": {
    "colab_type": "text",
    "id": "p7BRM4DdY5UW"
   },
   "source": [
    "# <b>Create the list of words with the column 'Word' from the dataset\n"
   ]
  },
  {
   "cell_type": "code",
   "execution_count": null,
   "metadata": {
    "colab": {
     "base_uri": "https://localhost:8080/",
     "height": 51
    },
    "colab_type": "code",
    "id": "10KKDUOpc1Hd",
    "outputId": "d8b5a473-1f63-40a4-f7a9-20547bed8d67"
   },
   "outputs": [],
   "source": [
    "text_df[\"Word\"].values"
   ]
  },
  {
   "cell_type": "markdown",
   "metadata": {
    "colab_type": "text",
    "id": "glAjkqYDc6l9"
   },
   "source": [
    "<b> Using set function making ditinct word list"
   ]
  },
  {
   "cell_type": "code",
   "execution_count": null,
   "metadata": {
    "colab": {
     "base_uri": "https://localhost:8080/",
     "height": 1000
    },
    "colab_type": "code",
    "id": "YmMIBduydI92",
    "outputId": "15b91aaf-d720-45d1-a451-5ab7f272595d"
   },
   "outputs": [],
   "source": [
    "set(text_df[\"Word\"].values)"
   ]
  },
  {
   "cell_type": "code",
   "execution_count": null,
   "metadata": {
    "colab": {
     "base_uri": "https://localhost:8080/",
     "height": 1000
    },
    "colab_type": "code",
    "id": "UU8TU2Dl5xEy",
    "outputId": "d6b51ea9-3bdf-4d53-a807-ff9ee02f3064"
   },
   "outputs": [],
   "source": [
    "list_of_words = list(set(text_df[\"Word\"].values))\n",
    "\n",
    "list_of_words"
   ]
  },
  {
   "cell_type": "markdown",
   "metadata": {
    "colab_type": "text",
    "id": "6xsFTtBUdVYz"
   },
   "source": [
    "#<b> Count the number of distinct words"
   ]
  },
  {
   "cell_type": "code",
   "execution_count": null,
   "metadata": {
    "colab": {
     "base_uri": "https://localhost:8080/",
     "height": 34
    },
    "colab_type": "code",
    "id": "1xr1_HFXdP4o",
    "outputId": "be7dd195-3bb0-4ac4-bcab-930b978dc8d4"
   },
   "outputs": [],
   "source": [
    "num_words = len(list_of_words)\n",
    "print(num_words)"
   ]
  },
  {
   "cell_type": "markdown",
   "metadata": {
    "colab_type": "text",
    "id": "kj24yu5udgtf"
   },
   "source": [
    "#**This class is defined to get sentences with POS and tags**"
   ]
  },
  {
   "cell_type": "code",
   "execution_count": null,
   "metadata": {
    "colab": {},
    "colab_type": "code",
    "id": "FaRGWb3A5xFK"
   },
   "outputs": [],
   "source": [
    "class get_tokenised_text(object):\n",
    "    \n",
    "    def __init__(dummy, df):\n",
    "        dummy.index = 1\n",
    "        dummy.df = df\n",
    "        dummy.nulls = False\n",
    "        # Below function is used to concatenate or aggregare word, pos, tag in same tuple. For eg.: ('pope','NN','O')\n",
    "        concat_function = lambda text: [(word, pos, tag) for word, pos, tag in zip(text[\"Word\"].values.tolist(),\n",
    "                                                           text[\"POS\"].values.tolist(),\n",
    "                                                           text[\"Tag\"].values.tolist())]\n",
    "        # Then group the sentence with the concat function written above just to separate sentences\n",
    "        dummy.grouped_sentence = dummy.df.groupby(\"Sentence #\").apply(concat_function)\n",
    "        dummy.full_text = [text for text in dummy.grouped_sentence] \n",
    "    \n",
    "    "
   ]
  },
  {
   "cell_type": "markdown",
   "metadata": {
    "colab_type": "text",
    "id": "LRWcKCxcdutZ"
   },
   "source": [
    "#<b>The below function returns the whole text with POS and tags in a list format\n"
   ]
  },
  {
   "cell_type": "code",
   "execution_count": null,
   "metadata": {
    "colab": {},
    "colab_type": "code",
    "id": "KEN0CEBndu4d"
   },
   "outputs": [],
   "source": [
    "    def get_text(dummy):\n",
    "        try:\n",
    "            text = dummy.df[dummy.df[\"Sentence #\"] == \"Sentence: {}\".format(dummy.index)]\n",
    "            dummy.index += 1\n",
    "            return text[\"Word\"].values.tolist(), text[\"POS\"].values.tolist(), text[\"Tag\"].values.tolist()    \n",
    "        except:\n",
    "            dummy.nulls = True\n",
    "            return None, None, None"
   ]
  },
  {
   "cell_type": "code",
   "execution_count": null,
   "metadata": {
    "colab": {
     "base_uri": "https://localhost:8080/",
     "height": 34
    },
    "colab_type": "code",
    "id": "bbPsKT_T5xFj",
    "outputId": "f96e6774-2dd7-4798-e4d5-e1ba7842531d"
   },
   "outputs": [],
   "source": [
    "text_df_interim = get_tokenised_text(text_df)\n",
    "print(text_df_interim)"
   ]
  },
  {
   "cell_type": "markdown",
   "metadata": {
    "colab_type": "text",
    "id": "0I1TApkUeDxK"
   },
   "source": [
    "#<b>Converted Text to tokenized text"
   ]
  },
  {
   "cell_type": "code",
   "execution_count": null,
   "metadata": {
    "colab": {
     "base_uri": "https://localhost:8080/",
     "height": 54
    },
    "colab_type": "code",
    "id": "rOazDFf25xF1",
    "outputId": "8b53c5b0-206c-4735-f782-c7322d3d492f"
   },
   "outputs": [],
   "source": [
    "tokenised_text = text_df_interim.full_text\n",
    "print(tokenised_text)"
   ]
  },
  {
   "cell_type": "markdown",
   "metadata": {
    "colab_type": "text",
    "id": "3PGNev9peLcM"
   },
   "source": [
    "#<b> Function to convert text into features. </b>\n",
    "<br>\n",
    "Features like , , or \n",
    "\n",
    "1.   word parts\n",
    "2.   Whether it is title\n",
    "3.   Digit\n",
    "4.   Upper case or a lower case \n",
    "\n",
    "We convert them into sklearn-crfsuite format so that it becomes easy for the package to read the data \n",
    " <br>\n",
    "\n",
    "<b>Each sentence is converted to a list of dicts"
   ]
  },
  {
   "cell_type": "code",
   "execution_count": null,
   "metadata": {
    "colab": {},
    "colab_type": "code",
    "id": "utOW_DEh5xGE"
   },
   "outputs": [],
   "source": [
    "\n",
    "def text2features(text, index):\n",
    "    word = text[index][0]\n",
    "    pos_tag = text[index][1]\n",
    "\n",
    "    features = {\n",
    "        'bias': 1.0,\n",
    "        'word.lower()': word.lower(),\n",
    "        'word[-3:]': word[-3:],\n",
    "        'word[-2:]': word[-2:],\n",
    "        'word.isupper()': word.isupper(),\n",
    "        'word.istitle()': word.istitle(),\n",
    "        'word.isdigit()': word.isdigit(),\n",
    "        'pos_tag': pos_tag,\n",
    "        'pos_tag[:2]': pos_tag[:2],\n",
    "    }\n",
    "    if index > 0:\n",
    "        word_next = text[index-1][0]\n",
    "        pos_tag_next = text[index-1][1]\n",
    "        features.update({\n",
    "            '-1:word.lower()': word_next.lower(),\n",
    "            '-1:word.istitle()': word_next.istitle(),\n",
    "            '-1:word.isupper()': word_next.isupper(),\n",
    "            '-1:pos_tag': pos_tag_next,\n",
    "            '-1:pos_tag[:2]': pos_tag_next[:2],\n",
    "        })\n",
    "    else:\n",
    "        features['BOS'] = True\n",
    "\n",
    "    if index < len(text)-1:\n",
    "        word_next = text[index+1][0]\n",
    "        pos_tag_next = text[index+1][1]\n",
    "        features.update({\n",
    "            '+1:word.lower()': word_next.lower(),\n",
    "            '+1:word.istitle()': word_next.istitle(),\n",
    "            '+1:word.isupper()': word_next.isupper(),\n",
    "            '+1:pos_tag': pos_tag_next,\n",
    "            '+1:pos_tag[:2]': pos_tag_next[:2],\n",
    "        })\n",
    "    else:\n",
    "        features['EOS'] = True\n",
    "\n",
    "    return features\n",
    "\n",
    "\n"
   ]
  },
  {
   "cell_type": "code",
   "execution_count": null,
   "metadata": {
    "colab": {},
    "colab_type": "code",
    "id": "mw3rYJKffcw7"
   },
   "outputs": [],
   "source": [
    "def text_to_features_all(text):\n",
    "    return [text2features(text, index) for index in range(len(text))]\n",
    "\n"
   ]
  },
  {
   "cell_type": "code",
   "execution_count": null,
   "metadata": {
    "colab": {},
    "colab_type": "code",
    "id": "rNK7qlMcff9j"
   },
   "outputs": [],
   "source": [
    "def text_to_labels(text):\n",
    "    return [label for token, postag, label in text]\n"
   ]
  },
  {
   "cell_type": "markdown",
   "metadata": {
    "colab_type": "text",
    "id": "WfjU9WMJfq0Y"
   },
   "source": [
    "#<b>\n",
    "\n",
    "#<b>1.   X will contain all the features data like POS, upper or lower or digit etc. \n",
    "#<b>2.  Y is the output variable i.e. the entity\n",
    "\n",
    "\n"
   ]
  },
  {
   "cell_type": "code",
   "execution_count": null,
   "metadata": {
    "colab": {
     "base_uri": "https://localhost:8080/",
     "height": 1000
    },
    "colab_type": "code",
    "id": "3aZk4QYX5xGY",
    "outputId": "e7baead4-fc09-4d7e-fc48-adee1b49bc53"
   },
   "outputs": [],
   "source": [
    "X = [text_to_features_all(text) for text in tokenised_text]\n",
    "X"
   ]
  },
  {
   "cell_type": "code",
   "execution_count": null,
   "metadata": {
    "colab": {
     "base_uri": "https://localhost:8080/",
     "height": 1000
    },
    "colab_type": "code",
    "id": "fSezOKmtgwY1",
    "outputId": "f4ee81ed-2bc5-489f-a730-9c30600853fc"
   },
   "outputs": [],
   "source": [
    "y = [text_to_labels(text) for text in tokenised_text]\n",
    "y"
   ]
  },
  {
   "cell_type": "markdown",
   "metadata": {
    "colab_type": "text",
    "id": "Zxpg42ogg-kQ"
   },
   "source": [
    "#<b> Building CRF model"
   ]
  },
  {
   "cell_type": "code",
   "execution_count": null,
   "metadata": {
    "colab": {},
    "colab_type": "code",
    "id": "HEl9qgr95xGy"
   },
   "outputs": [],
   "source": [
    "# Syntax to use the CRF model\n",
    "crf_model = crf(algorithm='lbfgs',\n",
    "          c1=0.1,\n",
    "          c2=0.1,\n",
    "          max_iterations=100,\n",
    "          all_possible_transitions=False)"
   ]
  },
  {
   "cell_type": "markdown",
   "metadata": {
    "colab_type": "text",
    "id": "d7mnh8_ghIzf"
   },
   "source": [
    "#<b>Prediction"
   ]
  },
  {
   "cell_type": "code",
   "execution_count": null,
   "metadata": {
    "colab": {
     "base_uri": "https://localhost:8080/",
     "height": 71
    },
    "colab_type": "code",
    "id": "dQCBK7i35xHG",
    "outputId": "76271e3a-6e16-40ee-ba09-1c333d67a144"
   },
   "outputs": [],
   "source": [
    "# Predict the model and check for accuracy and other metrics\n",
    "prediction = cvp(estimator=crf_model, X=X, y=y, cv=5)"
   ]
  },
  {
   "cell_type": "markdown",
   "metadata": {
    "colab_type": "text",
    "id": "7PWDMoyZhPj4"
   },
   "source": [
    "# <b>Print the output and check for the metrics. How the classification has been done using CRF\n"
   ]
  },
  {
   "cell_type": "code",
   "execution_count": null,
   "metadata": {
    "colab": {
     "base_uri": "https://localhost:8080/",
     "height": 479
    },
    "colab_type": "code",
    "id": "d2I-bZzo5xHd",
    "outputId": "16c11568-7821-4568-ef22-3a2ffbcd9586"
   },
   "outputs": [],
   "source": [
    "classification_analysis = fcr(y_pred=prediction, y_true=y)\n",
    "print(classification_analysis)"
   ]
  },
  {
   "cell_type": "markdown",
   "metadata": {
    "colab_type": "text",
    "id": "k2q_AYjshvVu"
   },
   "source": [
    "#<b>Let's check what are the most frequently occured transitions and rarely occured transitions from the generated model\n"
   ]
  },
  {
   "cell_type": "code",
   "execution_count": null,
   "metadata": {
    "colab": {
     "base_uri": "https://localhost:8080/",
     "height": 68
    },
    "colab_type": "code",
    "id": "9FqIQsyOWyy_",
    "outputId": "09d744be-f5eb-47f5-94ab-5a1a179bfa2c"
   },
   "outputs": [],
   "source": [
    "from collections import Counter\n",
    "def transitions(trans_features):\n",
    "    for (label_from, label_to), weight in trans_features:\n",
    "        print(\"%-6s -> %-7s %0.6f\" % (label_from, label_to, weight))\n",
    "print(\"Most occured transitions:\")\n",
    "transitions(Counter(crf_model.transition_features_).most_common(20))\n",
    "print(\"\\nMost rearely occuring transitions:\")\n",
    "transitions(Counter(crf_model.transition_features_).most_common()[-20:])"
   ]
  },
  {
   "cell_type": "code",
   "execution_count": null,
   "metadata": {
    "colab": {
     "base_uri": "https://localhost:8080/",
     "height": 190
    },
    "colab_type": "code",
    "id": "BztJy7K65xH-",
    "outputId": "7616d3d3-dbcf-432e-b0ff-3d27136f6621"
   },
   "outputs": [],
   "source": [
    "crf_model.fit(X, y)"
   ]
  },
  {
   "cell_type": "markdown",
   "metadata": {
    "colab_type": "text",
    "id": "k2TjWMFJh5nS"
   },
   "source": [
    "#<b> Weights of the model"
   ]
  },
  {
   "cell_type": "code",
   "execution_count": null,
   "metadata": {
    "colab": {
     "base_uri": "https://localhost:8080/",
     "height": 1000
    },
    "colab_type": "code",
    "id": "z8c9V3QJ5xIP",
    "outputId": "d9b45487-3aab-416f-bc61-6fa349ec134f"
   },
   "outputs": [],
   "source": [
    "# Let's now inspect model weights\n",
    "\n",
    "el.show_weights(crf_model, top=30)\n",
    "\n",
    "# The output shows that B-art is followed by I-article, B-eve is followed by I-eve etc. which is logical."
   ]
  },
  {
   "cell_type": "markdown",
   "metadata": {
    "colab_type": "text",
    "id": "vMxPhfCdiLKY"
   },
   "source": [
    "\n",
    "\n",
    "#<b>1.   Let's do some regularization. c1 is the l1 regularization and c2 is the l2 regularization \n",
    "#<b>2.   We can increase the c1 parameter to enforce sparsity in the context \n",
    "\n"
   ]
  },
  {
   "cell_type": "code",
   "execution_count": null,
   "metadata": {
    "colab": {},
    "colab_type": "code",
    "id": "FpJSROu_5xIg"
   },
   "outputs": [],
   "source": [
    "\n",
    "\n",
    "crf_model_regularized = crf(algorithm='lbfgs',\n",
    "          c1=10,\n",
    "          c2=0.1,\n",
    "          max_iterations=100,\n",
    "          all_possible_transitions=False)"
   ]
  },
  {
   "cell_type": "markdown",
   "metadata": {
    "colab_type": "text",
    "id": "a15cckHdjWKY"
   },
   "source": [
    "#<b>Prediction using CRF after regularization "
   ]
  },
  {
   "cell_type": "code",
   "execution_count": null,
   "metadata": {
    "colab": {
     "base_uri": "https://localhost:8080/",
     "height": 71
    },
    "colab_type": "code",
    "id": "LEy-H7975xI4",
    "outputId": "441f6a19-1502-44fb-92df-e8988a0f566e"
   },
   "outputs": [],
   "source": [
    "prediction = cvp(estimator=crf_model_regularized, X=X, y=y, cv=5)"
   ]
  },
  {
   "cell_type": "code",
   "execution_count": null,
   "metadata": {
    "colab": {
     "base_uri": "https://localhost:8080/",
     "height": 479
    },
    "colab_type": "code",
    "id": "eJnbqNkx5xJL",
    "outputId": "3e4506c7-2cc7-41f8-918c-7dcd579a5aec"
   },
   "outputs": [],
   "source": [
    "classification_analysis_reg = fcr(y_pred=prediction, y_true=y)\n",
    "print(classification_analysis_reg)"
   ]
  },
  {
   "cell_type": "code",
   "execution_count": null,
   "metadata": {
    "colab": {
     "base_uri": "https://localhost:8080/",
     "height": 190
    },
    "colab_type": "code",
    "id": "WE9kYxR35xJh",
    "outputId": "19d40771-825d-47b3-d305-6cb4b97e608a"
   },
   "outputs": [],
   "source": [
    "crf_model_regularized.fit(X, y)"
   ]
  },
  {
   "cell_type": "code",
   "execution_count": null,
   "metadata": {
    "colab": {
     "base_uri": "https://localhost:8080/",
     "height": 806
    },
    "colab_type": "code",
    "id": "JgJotHrh5xJw",
    "outputId": "105533a7-68f4-4ca1-8cb8-991339cddcf0"
   },
   "outputs": [],
   "source": [
    "el.show_weights(crf_model_regularized, top=30)"
   ]
  },
  {
   "cell_type": "code",
   "execution_count": null,
   "metadata": {
    "colab": {},
    "colab_type": "code",
    "id": "bGxSnbTV5xKk"
   },
   "outputs": [],
   "source": []
  }
 ],
 "metadata": {
  "accelerator": "GPU",
  "colab": {
   "collapsed_sections": [],
   "name": "CRF_NER (1).ipynb",
   "provenance": []
  },
  "kernelspec": {
   "display_name": "Python 3",
   "language": "python",
   "name": "python3"
  },
  "language_info": {
   "codemirror_mode": {
    "name": "ipython",
    "version": 3
   },
   "file_extension": ".py",
   "mimetype": "text/x-python",
   "name": "python",
   "nbconvert_exporter": "python",
   "pygments_lexer": "ipython3",
   "version": "3.8.5"
  }
 },
 "nbformat": 4,
 "nbformat_minor": 1
}
